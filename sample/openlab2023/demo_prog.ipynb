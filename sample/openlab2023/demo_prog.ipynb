{
 "cells": [
  {
   "cell_type": "markdown",
   "id": "5ac56a8f-a47e-4abe-a4e1-f1d1e100149a",
   "metadata": {},
   "source": [
    "# 色による動作決定デモンストレーション"
   ]
  },
  {
   "cell_type": "markdown",
   "id": "3703f856-9f21-4f50-94b2-bf2727abe4cd",
   "metadata": {},
   "source": [
    "## ライブラリおよびROSの設定"
   ]
  },
  {
   "cell_type": "code",
   "execution_count": null,
   "id": "91eb3ebe-ad1e-4ad3-aabe-1a6f8eefdc3d",
   "metadata": {},
   "outputs": [],
   "source": [
    "exec(open('/choreonoid_ws/install/share/irsl_choreonoid/sample/irsl_import.py').read())"
   ]
  },
  {
   "cell_type": "code",
   "execution_count": null,
   "id": "ca59081a-e6a3-4de1-9ca3-9b3ae36b0d5f",
   "metadata": {},
   "outputs": [],
   "source": [
    "# シミュレーションの場合はTrue, 実機の場合はFalseとする\n",
    "sim_mode = True"
   ]
  },
  {
   "cell_type": "code",
   "execution_count": null,
   "id": "a74ec62d-1d2b-4e69-8731-17e90c4891bd",
   "metadata": {},
   "outputs": [],
   "source": [
    "import os\n",
    "if sim_mode:\n",
    "    os.environ['ROS_MASTER_URI']='http://localhost:11311'\n",
    "    os.environ['ROS_IP'] = 'localhost'\n",
    "    os.environ['ROS_HOSTNAME'] = 'localhost'\n",
    "else :\n",
    "    robot_ip_addr = '133.15.97.82'\n",
    "    host_ip_addr = '133.15.97.76'\n",
    "    os.environ['ROS_MASTER_URI']='http://{}:11311'.format(robot_ip_addr)\n",
    "    os.environ['ROS_IP'] = host_ip_addr\n",
    "    os.environ['ROS_HOSTNAME'] = host_ip_addr"
   ]
  },
  {
   "cell_type": "markdown",
   "id": "0bf4d453-32df-43a3-8cd5-76b86cf95083",
   "metadata": {},
   "source": [
    "## ロボットインターフェースの作成"
   ]
  },
  {
   "cell_type": "code",
   "execution_count": null,
   "id": "063bca3d-110f-4b7d-8ef8-1a1a166545ed",
   "metadata": {},
   "outputs": [],
   "source": [
    "ri = RobotInterface('robotinterface.yaml')"
   ]
  },
  {
   "cell_type": "markdown",
   "id": "70a4983c-0b6b-4e0b-aa44-d7f4b2509ad8",
   "metadata": {},
   "source": [
    "## システム動作"
   ]
  },
  {
   "cell_type": "markdown",
   "id": "e9ea7adf-fd7b-4d75-8a09-6e62f5f5ac4d",
   "metadata": {},
   "source": [
    "### モーションの作成"
   ]
  },
  {
   "cell_type": "code",
   "execution_count": null,
   "id": "68b2538e-8b3b-430f-8469-8cf19c86ec06",
   "metadata": {},
   "outputs": [],
   "source": [
    "if sim_mode:\n",
    "    grasp_motion_list = [npa([0, 0,-2.3,-1.6,-0.9]), npa([0, -0.75,-2.3,-1.6,-0.9]), npa([0, -1.8, 0.3, 0,-0.9]), npa([0, -1.7,0.1, 0, 0]), npa([0, 0,-2.3,-1.6,0]),]\n",
    "else :\n",
    "    grasp_motion_list = [npa([0, 0,-2.3,-1.6,-0.9]), npa([0, -0.65,-2.3,-1.6,-0.9]), npa([0, -1.7,0.1, 0,-0.9]), npa([0, -1.7,0.1, 0, 0]), npa([0, 0,-2.3,-1.6,0]),]\n",
    "\n",
    "putleft_motion_list = [npa([1, 0,-2.3,-1.6,0]), npa([1, -0.65,-2.3,-1.6,0]), npa([0.9, -0.65,-2.3,-1.6,-0.9]), npa([0.9, 0,-2.3,-1.6,-0.9])]\n",
    "putright_motion_list = [npa([-1, 0,-2.3,-1.6,0]), npa([-1, -0.65,-2.3,-1.6,0]), npa([-1.1, -0.65,-2.3,-1.6,-0.9]), npa([-1.1, 0,-2.3,-1.6,-0.9])]\n"
   ]
  },
  {
   "cell_type": "markdown",
   "id": "cb1cc62c-37ff-4318-919a-7da5d9143f2f",
   "metadata": {},
   "source": [
    "### 対象を把持"
   ]
  },
  {
   "cell_type": "code",
   "execution_count": null,
   "id": "a70131a3-c111-4d47-9e47-5c72f960ccbb",
   "metadata": {},
   "outputs": [],
   "source": [
    "speed = 1.5\n",
    "\n",
    "for angle in grasp_motion_list:\n",
    "    ri.sendAngleVector(angle,speed)\n",
    "    ri.waitUntilFinish()"
   ]
  },
  {
   "cell_type": "markdown",
   "id": "7e3865f3-5198-4f98-a73a-94ce2116cfa0",
   "metadata": {},
   "source": [
    "### センサデータ読み込み"
   ]
  },
  {
   "cell_type": "code",
   "execution_count": null,
   "id": "2f98b890-1bc6-43ea-bf8e-d33103db54e2",
   "metadata": {},
   "outputs": [],
   "source": [
    "color_data = ri.waitNextData('COLOR_Sensor0', timeout=1.0, clear=True)\n",
    "print(color_data)"
   ]
  },
  {
   "cell_type": "markdown",
   "id": "bbc31347-fe9e-4669-adee-5f7394374591",
   "metadata": {},
   "source": [
    "### センサデータによる動作決定"
   ]
  },
  {
   "cell_type": "code",
   "execution_count": null,
   "id": "113a8862-9778-4b52-940c-7c32eb4459de",
   "metadata": {},
   "outputs": [],
   "source": [
    "if color_data.b > 0.25:\n",
    "    print(\"put left\")\n",
    "    for angle in putleft_motion_list:\n",
    "        ri.sendAngleVector(angle,speed)\n",
    "        ri.waitUntilFinish()\n",
    "else :\n",
    "    print(\"put right\")\n",
    "    for angle in putright_motion_list:\n",
    "        ri.sendAngleVector(angle,speed)\n",
    "        ri.waitUntilFinish()\n",
    "\n",
    "ri.sendAngleVector(npa([0, 0,-2.3,-1.6,-0.9]),speed)\n",
    "ri.waitUntilFinish()"
   ]
  }
 ],
 "metadata": {
  "kernelspec": {
   "display_name": "Python 3 (ipykernel)",
   "language": "python",
   "name": "python3"
  },
  "language_info": {
   "codemirror_mode": {
    "name": "ipython",
    "version": 3
   },
   "file_extension": ".py",
   "mimetype": "text/x-python",
   "name": "python",
   "nbconvert_exporter": "python",
   "pygments_lexer": "ipython3",
   "version": "3.8.10"
  }
 },
 "nbformat": 4,
 "nbformat_minor": 5
}
